{
  "cells": [
    {
      "cell_type": "markdown",
      "metadata": {
        "id": "n6j49ec1ePs-"
      },
      "source": [
        "## Curso de Inteligencia Artificial\n",
        "\n",
        "### API de Scikit-Learn\n",
        "\n"
      ]
    },
    {
      "cell_type": "markdown",
      "metadata": {
        "id": "aCFNr2BVePtX"
      },
      "source": [
        "**Versiones a utilizar**"
      ]
    },
    {
      "cell_type": "code",
      "execution_count": 1,
      "metadata": {
        "colab": {
          "base_uri": "https://localhost:8080/"
        },
        "id": "DiSAT0R8ePta",
        "outputId": "f1a64563-12c4-44eb-8c9e-4a228876be47"
      },
      "outputs": [
        {
          "output_type": "stream",
          "name": "stdout",
          "text": [
            "Python version: 3.10.12 (main, Jun  7 2023, 12:45:35) [GCC 9.4.0]\n",
            "pandas version: 1.5.3\n",
            "matplotlib version: 3.7.1\n",
            "NumPy version: 1.22.4\n",
            "SciPy version: 1.10.1\n",
            "IPython version: 7.34.0\n",
            "scikit-learn version: 1.2.2\n"
          ]
        }
      ],
      "source": [
        "import sys\n",
        "print(\"Python version: {}\".format(sys.version))\n",
        "import pandas as pd\n",
        "print(\"pandas version: {}\".format(pd.__version__))\n",
        "import matplotlib\n",
        "print(\"matplotlib version: {}\".format(matplotlib.__version__))\n",
        "import numpy as np\n",
        "print(\"NumPy version: {}\".format(np.__version__))\n",
        "import scipy as sp\n",
        "print(\"SciPy version: {}\".format(sp.__version__))\n",
        "import IPython\n",
        "print(\"IPython version: {}\".format(IPython.__version__))\n",
        "import sklearn\n",
        "print(\"scikit-learn version: {}\".format(sklearn.__version__))"
      ]
    },
    {
      "cell_type": "markdown",
      "metadata": {
        "id": "AsSpfTuwePtd"
      },
      "source": [
        "## API de scikit-learn\n",
        "\n",
        "Los principales \"interfaces\" en scikit-learn son (una clase puede implementar múltiples interfaces):\n",
        "\n",
        "- **Estimador**:\n",
        "\n",
        "    `estimador = obj.fit(data, targets)`\n",
        "\n",
        "- **Predictor**:\n",
        "\n",
        "    `prediccion = obj.predict(data)`\n",
        "\n",
        "- **Transformador**:\n",
        "\n",
        "    `n_data = obj.transform(data)`\n",
        "\n",
        "- **Modelo**:\n",
        "\n",
        "    `s = obj.score(data)`\n"
      ]
    },
    {
      "cell_type": "code",
      "execution_count": 13,
      "metadata": {
        "id": "5BgRzBV8ePtd"
      },
      "outputs": [],
      "source": [
        "import warnings\n",
        "warnings.filterwarnings(\"ignore\")"
      ]
    },
    {
      "cell_type": "code",
      "execution_count": 14,
      "metadata": {
        "id": "sIWXZTYmePte"
      },
      "outputs": [],
      "source": [
        "# Ejemplos\n",
        "import numpy as np\n",
        "import matplotlib.pyplot as plt\n",
        "from sklearn import datasets\n",
        "from numpy import logical_or\n",
        "from sklearn.linear_model import LogisticRegression\n",
        "import sgd_separador\n",
        "import regresion\n"
      ]
    },
    {
      "cell_type": "code",
      "source": [
        "from sklearn import datasets\n",
        "from numpy import  logical_or\n",
        "from sklearn.linear_model import LogisticRegression\n",
        "iris=datasets.load_iris()\n",
        "subconjunto=logical_or(iris.target==0, iris.target==1)\n",
        "X=iris.data[subconjunto]\n",
        "y=iris.target[subconjunto]\n",
        "modelo=LogisticRegression()\n",
        "modelo.fit(X,y)\n",
        "print(modelo.coef_)"
      ],
      "metadata": {
        "colab": {
          "base_uri": "https://localhost:8080/"
        },
        "id": "5sz4k1HDgyoa",
        "outputId": "79da0a37-dbbb-4619-8f38-cb5e58ad2868"
      },
      "execution_count": 41,
      "outputs": [
        {
          "output_type": "stream",
          "name": "stdout",
          "text": [
            "[[ 0.44036482 -0.90696813  2.30849566  0.96232763]]\n"
          ]
        }
      ]
    },
    {
      "cell_type": "code",
      "source": [
        "#from sklearn.naive_bayes import GaussianNB\n",
        "#modelo=GaussianNB()\n",
        "#modelo.fit(X_train,Y_train)"
      ],
      "metadata": {
        "id": "9olXLIaiiOIX"
      },
      "execution_count": 27,
      "outputs": []
    },
    {
      "cell_type": "code",
      "execution_count": 33,
      "metadata": {
        "colab": {
          "base_uri": "https://localhost:8080/"
        },
        "id": "x2b_cCKqePtf",
        "outputId": "a6477a9f-4a4b-445c-b4e1-0dcefe5f7786"
      },
      "outputs": [
        {
          "output_type": "stream",
          "name": "stdout",
          "text": [
            "[[5.936 2.77  4.26  1.326]\n",
            " [5.006 3.428 1.462 0.246]]\n"
          ]
        }
      ],
      "source": [
        "# Para aprendizaje no supervisado\n",
        "from sklearn.cluster import KMeans\n",
        "kmeans=KMeans(n_clusters=2)\n",
        "# Fijamos el modelo\n",
        "kmeans.fit(X)\n",
        "print(kmeans.cluster_centers_)"
      ]
    },
    {
      "cell_type": "code",
      "execution_count": 30,
      "metadata": {
        "colab": {
          "base_uri": "https://localhost:8080/"
        },
        "id": "2Xvi3YRyePtg",
        "outputId": "d381bd29-4750-4fc2-c9a0-dcdb94ed8a47"
      },
      "outputs": [
        {
          "output_type": "stream",
          "name": "stdout",
          "text": [
            "[2.77191092 0.22795013]\n"
          ]
        }
      ],
      "source": [
        "# Reduccion de la dimension\n",
        "\n",
        "from sklearn.decomposition import PCA\n",
        "\n",
        "# Creamos el modelo\n",
        "pca = PCA(n_components=2)\n",
        "\n",
        "# Fijamos el modelo\n",
        "pca.fit(X)\n",
        "print (pca.explained_variance_)"
      ]
    },
    {
      "cell_type": "code",
      "execution_count": 34,
      "metadata": {
        "colab": {
          "base_uri": "https://localhost:8080/"
        },
        "id": "mb6-tP1uePth",
        "outputId": "976ffc44-86be-4e99-a0d3-45fbe7991df7"
      },
      "outputs": [
        {
          "output_type": "execute_result",
          "data": {
            "text/plain": [
              "array([0, 1])"
            ]
          },
          "metadata": {},
          "execution_count": 34
        }
      ],
      "source": [
        "# Predictores\n",
        "modelo = LogisticRegression()\n",
        "modelo.fit(X, Y)\n",
        "\n",
        "X_test = [[ 5.006,  3.418,  1.464,  0.244], [ 5.936,  2.77 ,  4.26 ,  1.326]]\n",
        "modelo.predict(X_test)"
      ]
    },
    {
      "cell_type": "markdown",
      "source": [
        ">> Se encarga de cuantificar la confianza del cuantificador."
      ],
      "metadata": {
        "id": "M0B_G3Zvke0y"
      }
    },
    {
      "cell_type": "code",
      "execution_count": 35,
      "metadata": {
        "colab": {
          "base_uri": "https://localhost:8080/"
        },
        "id": "hv6rj_nkePth",
        "outputId": "7ae73d69-5c68-4621-a3ad-1ffa01ef85d7"
      },
      "outputs": [
        {
          "output_type": "stream",
          "name": "stdout",
          "text": [
            "[[0.98001834 0.01998166]\n",
            " [0.00994894 0.99005106]]\n"
          ]
        }
      ],
      "source": [
        "print (modelo.predict_proba(X_test))"
      ]
    },
    {
      "cell_type": "code",
      "execution_count": 36,
      "metadata": {
        "colab": {
          "base_uri": "https://localhost:8080/"
        },
        "id": "yvsKqnvIePtk",
        "outputId": "647b0a7e-2413-4abf-e54f-0d0fbd047aab"
      },
      "outputs": [
        {
          "output_type": "execute_result",
          "data": {
            "text/plain": [
              "array([8])"
            ]
          },
          "metadata": {},
          "execution_count": 36
        }
      ],
      "source": [
        "# Ejemplo más avanzado de SVM,  usando SVC (support vector classification)\n",
        "#Parametro=gamma\n",
        "from sklearn import svm\n",
        "digitos = datasets.load_digits()\n",
        "clasificador = svm.SVC(gamma=0.001, C=100.)\n",
        "\n",
        "# Fijamos el modelo\n",
        "clasificador.fit(digitos.data[:-1], digitos.target[:-1])\n",
        "\n",
        "# Usamos los predictores en el modelo\n",
        "clasificador.predict(digitos.data[-1:])\n"
      ]
    },
    {
      "cell_type": "code",
      "execution_count": 37,
      "metadata": {
        "colab": {
          "base_uri": "https://localhost:8080/"
        },
        "id": "MS_hgaVyePtk",
        "outputId": "9c096896-8495-494c-c6fa-50a261cc514b"
      },
      "outputs": [
        {
          "output_type": "stream",
          "name": "stdout",
          "text": [
            "[[-1.6534434   0.19872334]\n",
            " [-1.6324908  -0.30649923]\n",
            " [-1.8183021  -0.27991275]\n",
            " [-1.65968123 -0.43813423]\n",
            " [-1.70289234  0.20759772]]\n"
          ]
        }
      ],
      "source": [
        "# El metodo transform para aprendizaje no supervisado\n",
        "\n",
        "pca = PCA(n_components=2)\n",
        "pca.fit(X)\n",
        "\n",
        "print (pca.transform(X)[0:5,:])"
      ]
    },
    {
      "cell_type": "markdown",
      "source": [
        "from sklearn.preprocessing import StandardScaler<RB>\n",
        "scaler=StandardScaler()<BR>\n",
        "sacler.fit(X_train)<BR>\n",
        "X_train=scaler.transform(X_train)<BR>\n",
        "X_text=scaler.transfrom(X_test)<BR>\n",
        "#Se ajusta a las pruebas"
      ],
      "metadata": {
        "id": "BE-o-Wqfmj5J"
      }
    },
    {
      "cell_type": "markdown",
      "source": [
        "El transformador se encarga de realizar preprocesamiento. Punto de partida del modelo(X-train). Mas adelante se puede utlizar para modificador los datos."
      ],
      "metadata": {
        "id": "aakbqpgwlDMF"
      }
    },
    {
      "cell_type": "code",
      "execution_count": 43,
      "metadata": {
        "colab": {
          "base_uri": "https://localhost:8080/"
        },
        "id": "D_qS71AXePtl",
        "outputId": "429530ff-c3f2-47c4-9414-c8635512385b"
      },
      "outputs": [
        {
          "output_type": "stream",
          "name": "stdout",
          "text": [
            "[[-1.6534434   0.19872334]\n",
            " [-1.6324908  -0.30649923]\n",
            " [-1.8183021  -0.27991275]\n",
            " [-1.65968123 -0.43813423]\n",
            " [-1.70289234  0.20759772]]\n"
          ]
        }
      ],
      "source": [
        "# El metodo fit.transform\n",
        "\n",
        "pca = PCA(n_components=2)\n",
        "print (pca.fit_transform(X)[0:5,:])\n"
      ]
    },
    {
      "cell_type": "code",
      "execution_count": 42,
      "metadata": {
        "colab": {
          "base_uri": "https://localhost:8080/"
        },
        "id": "2D3-C_T7ePtl",
        "outputId": "2147b3bf-421a-429f-ce0f-0c0a41899e53"
      },
      "outputs": [
        {
          "output_type": "execute_result",
          "data": {
            "text/plain": [
              "0.5"
            ]
          },
          "metadata": {},
          "execution_count": 42
        }
      ],
      "source": [
        "# Otros modelos\n",
        "# Utilizamos DummyClassifier un clasificador que hace predicciones simples\n",
        "\n",
        "from sklearn.dummy import DummyClassifier\n",
        "\n",
        "modelo = DummyClassifier()\n",
        "modelo.fit(X, y)\n",
        "\n",
        "modelo.score(X, y)\n"
      ]
    },
    {
      "cell_type": "markdown",
      "metadata": {
        "id": "zGoAS1byePtm"
      },
      "source": [
        "Dos de las tareas más simples del aprendizaje automático es la `clasificación` y la `regresión`. Veamos el siguiente ejemplo:"
      ]
    },
    {
      "cell_type": "code",
      "execution_count": 44,
      "metadata": {
        "colab": {
          "base_uri": "https://localhost:8080/",
          "height": 447
        },
        "id": "Gjqe1nd5ePtm",
        "outputId": "99736662-7069-4add-9026-b458524dcd8d"
      },
      "outputs": [
        {
          "output_type": "display_data",
          "data": {
            "text/plain": [
              "<Figure size 640x480 with 1 Axes>"
            ],
            "image/png": "[encoded data removed]"
          },
          "metadata": {}
        },
        {
          "output_type": "display_data",
          "data": {
            "text/plain": [
              "<Figure size 640x480 with 0 Axes>"
            ]
          },
          "metadata": {}
        }
      ],
      "source": [
        "%run sgd_separador.py"
      ]
    },
    {
      "cell_type": "markdown",
      "source": [
        ">>Grafico de dos dimensiones:\n",
        ">>>Las lineas de separacion se puedes generalizar a nuevos datos."
      ],
      "metadata": {
        "id": "NUDBKgOAnCPp"
      }
    },
    {
      "cell_type": "markdown",
      "metadata": {
        "id": "-ys3RqlEePtm"
      },
      "source": [
        "Otra tarea del aprendizaje automático es la de `regressión`, que es el ajuste de una línea a un conjunto de datos."
      ]
    },
    {
      "cell_type": "code",
      "execution_count": 45,
      "metadata": {
        "colab": {
          "base_uri": "https://localhost:8080/",
          "height": 466
        },
        "id": "uCzlGLtpePtn",
        "outputId": "b29c2d3a-339f-4e4a-b1d3-451b7c28b5f9"
      },
      "outputs": [
        {
          "output_type": "display_data",
          "data": {
            "text/plain": [
              "<Figure size 640x480 with 1 Axes>"
            ],
            "image/png": "[encoded data removed]"
          },
          "metadata": {}
        },
        {
          "output_type": "display_data",
          "data": {
            "text/plain": [
              "<Figure size 640x480 with 0 Axes>"
            ]
          },
          "metadata": {}
        }
      ],
      "source": [
        "%run regresion.py"
      ]
    },
    {
      "cell_type": "code",
      "source": [
        "from sklearn.ensemble import RandomForestRegressor\n",
        "import numpy as np\n",
        "modelo = RandomForestRegressor()\n",
        "np.random.seed(0)\n",
        "X = np.random.rand(30, 1)\n",
        "y = 3 * X.squeeze() + 2 + np.random.rand(30)\n",
        "modelo.fit(X, y)\n",
        "X_fit = np.linspace(0, 1, 100)[:, np.newaxis]\n",
        "y_fit = modelo.predict(X_fit)\n",
        "plt.plot(X.squeeze(), y, 'o')\n",
        "plt.plot(X_fit.squeeze(), y_fit)\n"
      ],
      "metadata": {
        "colab": {
          "base_uri": "https://localhost:8080/",
          "height": 451
        },
        "id": "2x984whRpbKg",
        "outputId": "688abd50-e9e3-4661-e45d-031dbc6b504f"
      },
      "execution_count": 68,
      "outputs": [
        {
          "output_type": "execute_result",
          "data": {
            "text/plain": [
              "[<matplotlib.lines.Line2D at 0x7f07599ccee0>]"
            ]
          },
          "metadata": {},
          "execution_count": 68
        },
        {
          "output_type": "display_data",
          "data": {
            "text/plain": [
              "<Figure size 640x480 with 1 Axes>"
            ],
            "image/png": "[encoded data removed]"
          },
          "metadata": {}
        }
      ]
    },
    {
      "cell_type": "markdown",
      "metadata": {
        "id": "ChCVx3sQePtn"
      },
      "source": [
        "###  Validación de modelos\n"
      ]
    },
    {
      "cell_type": "code",
      "execution_count": 46,
      "metadata": {
        "colab": {
          "base_uri": "https://localhost:8080/"
        },
        "id": "G0elMdb8ePtn",
        "outputId": "e714de0b-a58f-49f1-fef5-ad76b337075e"
      },
      "outputs": [
        {
          "output_type": "stream",
          "name": "stdout",
          "text": [
            "True\n"
          ]
        }
      ],
      "source": [
        "# Para el conjunto de datos iris, la prediccion de los datos de entrada\n",
        "\n",
        "from sklearn.neighbors import KNeighborsClassifier\n",
        "X, y = iris.data, iris.target\n",
        "clf = KNeighborsClassifier(n_neighbors=1)\n",
        "clf.fit(X, y)\n",
        "y_pred = clf.predict(X)\n",
        "print(np.all(y == y_pred))"
      ]
    },
    {
      "cell_type": "markdown",
      "metadata": {
        "id": "DQdQQ0XnePto"
      },
      "source": [
        "Una forma más útil examinar los resultados es  ver la `matriz de confusión (confusión matrix)`, o la matriz que muestra la frecuencia de las entradas y salidas:"
      ]
    },
    {
      "cell_type": "code",
      "execution_count": 47,
      "metadata": {
        "colab": {
          "base_uri": "https://localhost:8080/"
        },
        "id": "hqry1iuUePto",
        "outputId": "e9e508e1-5d4a-4edb-aac9-819ddefc2d6a"
      },
      "outputs": [
        {
          "output_type": "stream",
          "name": "stdout",
          "text": [
            "[[50  0  0]\n",
            " [ 0 50  0]\n",
            " [ 0  0 50]]\n"
          ]
        }
      ],
      "source": [
        "from sklearn.metrics import confusion_matrix\n",
        "print(confusion_matrix(y, y_pred))"
      ]
    },
    {
      "cell_type": "markdown",
      "source": [
        ">El modelo genera mal"
      ],
      "metadata": {
        "id": "6CwHPbDMoqen"
      }
    },
    {
      "cell_type": "code",
      "execution_count": 59,
      "metadata": {
        "colab": {
          "base_uri": "https://localhost:8080/"
        },
        "id": "kgolLThBePtp",
        "outputId": "a81d1f45-e089-4a9f-b8b4-836c29ef0363"
      },
      "outputs": [
        {
          "output_type": "stream",
          "name": "stdout",
          "text": [
            "[[16  0  0]\n",
            " [ 0 12  0]\n",
            " [ 0  0 10]]\n"
          ]
        }
      ],
      "source": [
        "from sklearn.model_selection import train_test_split\n",
        "\n",
        "Xentrenamiento, Xtest, yentrenamiento, ytest = train_test_split(X, y)\n",
        "clf.fit(Xentrenamiento, yentrenamiento)\n",
        "ypred = clf.predict(Xtest)\n",
        "print(confusion_matrix(ytest, ypred))"
      ]
    },
    {
      "cell_type": "markdown",
      "metadata": {
        "id": "3M1LxnCIePtp"
      },
      "source": [
        "Esto muestra verdadero rendimiento de nuestro clasificador\n",
        "\n",
        "Por esta razón, es muy importante utilizar  los datos de  `entrenamiento` y datos `test` en la evaluación de los  modelos."
      ]
    },
    {
      "cell_type": "markdown",
      "metadata": {
        "id": "4xI3LSwIePtp"
      },
      "source": [
        "#### Ejercicios de experimentación\n",
        "\n",
        "1 . Carga el conjunto de datos ``diabetes`` usando ``sklearn.datasets.load_diabetes`` y realiza un análisis de acuerdo a las notas realizadas. Aplica ``LinearRegression``, ``Ridge`` y ``Lasso``  y visualiza los coeficientes."
      ]
    },
    {
      "cell_type": "code",
      "execution_count": 61,
      "metadata": {
        "colab": {
          "base_uri": "https://localhost:8080/",
          "height": 430
        },
        "id": "b_7CJWo4ePtr",
        "outputId": "71c17893-b0ca-4f94-9c7f-e272a5e11fea"
      },
      "outputs": [
        {
          "output_type": "display_data",
          "data": {
            "text/plain": [
              "<Figure size 640x480 with 1 Axes>"
            ],
            "image/png": "[encoded data removed]"
          },
          "metadata": {}
        }
      ],
      "source": [
        "\n",
        "from sklearn.linear_model import LinearRegression, Ridge, Lasso\n",
        "diabetes = datasets.load_diabetes()\n",
        "X = diabetes.data\n",
        "y = diabetes.target\n",
        "lr = LinearRegression()\n",
        "ridge = Ridge()\n",
        "lasso = Lasso()\n",
        "\n",
        "lr.fit(X, y)\n",
        "ridge.fit(X, y)\n",
        "lasso.fit(X, y)\n",
        "plt.plot(lr.coef_, 'o', label='Linear Regression')\n",
        "plt.plot(ridge.coef_, 'o', label='Ridge')\n",
        "plt.plot(lasso.coef_, 'o', label='Lasso')\n",
        "plt.legend()\n",
        "plt.show()\n"
      ]
    }
  ],
  "metadata": {
    "kernelspec": {
      "display_name": "Python 3",
      "language": "python",
      "name": "python3"
    },
    "language_info": {
      "codemirror_mode": {
        "name": "ipython",
        "version": 3
      },
      "file_extension": ".py",
      "mimetype": "text/x-python",
      "name": "python",
      "nbconvert_exporter": "python",
      "pygments_lexer": "ipython3",
      "version": "3.7.10"
    },
    "colab": {
      "provenance": []
    }
  },
  "nbformat": 4,
  "nbformat_minor": 0
}